{
 "cells": [
  {
   "cell_type": "code",
   "execution_count": 5,
   "id": "0a2b5444",
   "metadata": {
    "ExecuteTime": {
     "end_time": "2025-05-29T08:04:07.759951Z",
     "start_time": "2025-05-29T08:04:07.737879Z"
    }
   },
   "outputs": [],
   "source": [
    "from langgraph.graph import START, END, StateGraph\n",
    "from langchain_ollama import ChatOllama"
   ]
  },
  {
   "cell_type": "code",
   "execution_count": 6,
   "id": "80282fef",
   "metadata": {
    "ExecuteTime": {
     "end_time": "2025-05-29T08:04:09.590495Z",
     "start_time": "2025-05-29T08:04:09.587904Z"
    }
   },
   "outputs": [],
   "source": [
    "from IPython.display import Image, display\n",
    "from typing_extensions import TypedDict"
   ]
  },
  {
   "cell_type": "code",
   "execution_count": 7,
   "id": "1a9a0d1e",
   "metadata": {
    "ExecuteTime": {
     "end_time": "2025-05-29T08:04:10.257467Z",
     "start_time": "2025-05-29T08:04:10.254603Z"
    }
   },
   "outputs": [],
   "source": [
    "class State(TypedDict):\n",
    "    topic: str\n",
    "    joke: str\n",
    "    improve_joke: str\n",
    "    final_joke: str"
   ]
  },
  {
   "cell_type": "code",
   "execution_count": 23,
   "id": "3ad0efc7",
   "metadata": {
    "ExecuteTime": {
     "end_time": "2025-05-29T08:25:30.672585Z",
     "start_time": "2025-05-29T08:25:30.599270Z"
    }
   },
   "outputs": [],
   "source": [
    "llm = ChatOllama(model=\"qwen2.5:7b\", base_url=\"http://localhost:11434\")\n",
    "# Node\n",
    "def generate_joke(state: State):\n",
    "    \"\"\"First LLM call to generate initial joke\"\"\"\n",
    "\n",
    "    msg = llm.invoke(f\"请写一篇关于{state[\"topic\"]}的笑话。\")\n",
    "    return {\"joke\": msg.content}\n",
    "\n",
    "\n",
    "def check_punchline(state: State):\n",
    "    \"\"\"Gate function to check if the joke has a punchline\"\"\"\n",
    "\n",
    "    if \"?\" in state[\"joke\"] or \"!\" in state[\"joke\"]:\n",
    "        return \"Pass\"\n",
    "    return \"Fail\"\n",
    "\n",
    "\n",
    "def improve_joke(state: State):\n",
    "    \"\"\"Second LLM call to improve the joke\"\"\"\n",
    "\n",
    "    msg = llm.invoke(f\"请给这个笑话添加一些歇后语，让其更有趣：{state[\"joke\"]}\")\n",
    "    return {\"improve_joke\": msg.content}\n",
    "\n",
    "\n",
    "def polish_joke(state: State):\n",
    "    \"\"\"Third LLM call for final polish\"\"\"\n",
    "\n",
    "    msg = llm.invoke(f\"给这个笑话添加一个令人惊讶的转折：{state[\"improve_joke\"]}\")\n",
    "    return {\"final_joke\": msg.content}"
   ]
  },
  {
   "cell_type": "code",
   "execution_count": 24,
   "id": "60d45c16",
   "metadata": {
    "ExecuteTime": {
     "end_time": "2025-05-29T08:25:32.688349Z",
     "start_time": "2025-05-29T08:25:31.840011Z"
    }
   },
   "outputs": [
    {
     "data": {
      "image/png": "[encoded data removed]",
      "text/plain": [
       "<IPython.core.display.Image object>"
      ]
     },
     "metadata": {},
     "output_type": "display_data"
    }
   ],
   "source": [
    "# Build workflow\n",
    "workflow = StateGraph(State)\n",
    "\n",
    "# Add nodes\n",
    "workflow.add_node(\"improved_joke\", improve_joke)\n",
    "workflow.add_node(\"generate_joke\", generate_joke)\n",
    "\n",
    "workflow.add_node(\"polish_joke\", polish_joke)\n",
    "\n",
    "# Add edges to connect nodes\n",
    "workflow.add_edge(START, \"generate_joke\")\n",
    "workflow.add_conditional_edges(\n",
    "    \"generate_joke\", check_punchline, {\"Fail\": \"improved_joke\", \"Pass\": END}\n",
    ")\n",
    "workflow.add_edge(\"improved_joke\", \"polish_joke\")\n",
    "workflow.add_edge(\"polish_joke\", END)\n",
    "\n",
    "chain = workflow.compile()\n",
    "\n",
    "\n",
    "\n",
    "display(Image(chain.get_graph().draw_mermaid_png()))\n",
    "\n"
   ]
  },
  {
   "cell_type": "code",
   "execution_count": 25,
   "id": "73cbd2a5",
   "metadata": {
    "ExecuteTime": {
     "end_time": "2025-05-29T08:29:26.866535Z",
     "start_time": "2025-05-29T08:25:33.575182Z"
    }
   },
   "outputs": [
    {
     "name": "stdout",
     "output_type": "stream",
     "text": [
      "Initial joke:\n",
      "当然可以，下面是一则关于猫咪的小笑话：\n",
      "\n",
      "有一天，一只猫和它的主人去参加了一个宠物才艺比赛。比赛项目有很多，包括跳舞、走秀、识字等。轮到猫上场了，主持人问它：“你先来展示一下你的特殊才能吧！”\n",
      "\n",
      "猫轻盈地跳上了舞台中央，然后缓缓伸出了爪子，对准了自己身前的一只小铃铛。\n",
      "\n",
      "“准备好了吗？”主持人问道。\n",
      "\n",
      "猫看了一眼铃铛，又看了看主人和观众。然后，它做了个深呼吸，轻轻地挥了挥尾巴。\n",
      "\n",
      "突然，“喵”地叫了一声，紧接着，那个小铃铛“叮”的一声响了起来！\n",
      "\n",
      "全场都惊呆了，观众们纷纷鼓掌。这时，猫又对着主持人做了一个可爱的表情，仿佛在说：“看！我还会唱歌呢！”\n",
      "\n",
      "主持人兴奋地说：“哇哦！你的猫可是个天才啊！不过，我们这次比赛还是以特技为主，请你展示一下吧。”\n",
      "\n",
      "猫笑了笑，再次伸出了爪子，对准了另一个目标——主人手中的一个小纸条。\n",
      "\n",
      "“准备好了吗？”主持人问。\n",
      "\n",
      "猫又看了一眼纸条，然后做出了一个深思熟虑的动作。只见它轻巧地一跳，用前爪抓起了那张纸条。\n",
      "\n",
      "这时，所有观众的目光都转向了纸条。上面只写了一个字：“鱼”。\n",
      "\n",
      "全场再次爆发出了热烈的掌声。猫得意洋洋地舔了舔爪子，仿佛在说：“怎么样？谁说猫不会写字？”\n",
      "\n",
      "--- --- ---\n",
      "\n",
      "Joke failed quality gate - no punchline detected!\n"
     ]
    }
   ],
   "source": [
    "state = chain.invoke({\"topic\": \"猫咪\"})\n",
    "print(\"Initial joke:\")\n",
    "print(state[\"joke\"])\n",
    "print(\"\\n--- --- ---\\n\")\n",
    "if \"improved_joke\" in state:\n",
    "    print(\"Improved joke:\")\n",
    "    print(state[\"improved_joke\"])\n",
    "    print(\"\\n--- --- ---\\n\")\n",
    "\n",
    "    print(\"Final joke:\")\n",
    "    print(state[\"final_joke\"])\n",
    "else:\n",
    "    print(\"Joke failed quality gate - no punchline detected!\")"
   ]
  },
  {
   "cell_type": "code",
   "execution_count": null,
   "id": "93a2bfb9",
   "metadata": {},
   "outputs": [],
   "source": []
  }
 ],
 "metadata": {
  "kernelspec": {
   "display_name": "zyptorch",
   "language": "python",
   "name": "zyptorch"
  },
  "language_info": {
   "codemirror_mode": {
    "name": "ipython",
    "version": 3
   },
   "file_extension": ".py",
   "mimetype": "text/x-python",
   "name": "python",
   "nbconvert_exporter": "python",
   "pygments_lexer": "ipython3",
   "version": "3.12.5"
  }
 },
 "nbformat": 4,
 "nbformat_minor": 5
}
