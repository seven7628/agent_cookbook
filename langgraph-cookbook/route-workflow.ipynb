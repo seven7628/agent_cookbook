{
 "cells": [
  {
   "cell_type": "code",
   "execution_count": 15,
   "id": "f420f366",
   "metadata": {
    "ExecuteTime": {
     "end_time": "2025-05-29T09:19:03.875300Z",
     "start_time": "2025-05-29T09:19:03.864841Z"
    }
   },
   "outputs": [],
   "source": [
    "from langgraph.graph import START, END, StateGraph\n",
    "from IPython.display import display, Image\n",
    "from typing_extensions import Literal, TypedDict\n",
    "from langchain_core.messages import HumanMessage, SystemMessage\n",
    "from pydantic import BaseModel, Field\n",
    "from langchain_ollama import ChatOllama"
   ]
  },
  {
   "cell_type": "code",
   "execution_count": 16,
   "id": "a5ce0ba0",
   "metadata": {
    "ExecuteTime": {
     "end_time": "2025-05-29T09:19:04.613902Z",
     "start_time": "2025-05-29T09:19:04.528815Z"
    }
   },
   "outputs": [],
   "source": [
    "class Route(BaseModel):\n",
    "    step: Literal[\"poem\", \"story\", \"joke\"] = Field(None, description='The next step in the routing process')\n",
    "        \n",
    "llm = ChatOllama(model=\"qwen2.5:7b\", base_url=\"http://localhost:11434\")\n",
    "router = llm.with_structured_output(Route)"
   ]
  },
  {
   "cell_type": "code",
   "execution_count": 17,
   "id": "c097ef84",
   "metadata": {
    "ExecuteTime": {
     "end_time": "2025-05-29T09:19:05.202028Z",
     "start_time": "2025-05-29T09:19:05.196459Z"
    }
   },
   "outputs": [],
   "source": [
    "class State(TypedDict):\n",
    "    input: str\n",
    "    decision: str\n",
    "    output: str\n",
    "        \n",
    "\n",
    "# Nodes\n",
    "def llm_call_1(state: State):\n",
    "    \"\"\"写一个笑话\"\"\"\n",
    "    result = llm.invoke(state[\"input\"])\n",
    "    return {\"output\": result.content}\n",
    "\n",
    "def llm_call_2(state: State):\n",
    "    \"\"\"写一个故事\"\"\"\n",
    "    result = llm.invoke(state[\"input\"])\n",
    "    return {\"output\": result.content}\n",
    "\n",
    "def llm_call_3(state: State):\n",
    "    \"\"\"写一篇诗句\"\"\"\n",
    "    result = llm.invoke(state[\"input\"])\n",
    "    return {\"output\": result.content}\n",
    "\n",
    "def llm_call_router(state: State):\n",
    "    decision = router.invoke(\n",
    "        [\n",
    "            SystemMessage(content=\"通过用户输入的信息，将其路由到 story、joke、poem。\"),\n",
    "            HumanMessage(content=state[\"input\"])\n",
    "        ]\n",
    "    )\n",
    "    return {\"decision\": decision.step}\n",
    "\n",
    "# 编写边的条件\n",
    "def route_decision(state: State):\n",
    "    if state[\"decision\"] == \"joke\":\n",
    "        return \"llm_call_1\"\n",
    "    elif state[\"decision\"] == \"story\":\n",
    "        return \"llm_call_2\"\n",
    "    elif state[\"decision\"] == \"poem\":\n",
    "        return \"llm_call_3\""
   ]
  },
  {
   "cell_type": "code",
   "execution_count": 18,
   "id": "e79a3224",
   "metadata": {
    "ExecuteTime": {
     "end_time": "2025-05-29T09:19:07.694153Z",
     "start_time": "2025-05-29T09:19:06.197333Z"
    }
   },
   "outputs": [
    {
     "data": {
      "image/png": "[encoded data removed]",
      "text/plain": [
       "<IPython.core.display.Image object>"
      ]
     },
     "metadata": {},
     "output_type": "display_data"
    }
   ],
   "source": [
    "router_builder = StateGraph(State)\n",
    "\n",
    "# 添加节点\n",
    "router_builder.add_node(\"llm_call_1\", llm_call_1)\n",
    "router_builder.add_node(\"llm_call_2\", llm_call_2)\n",
    "router_builder.add_node(\"llm_call_3\", llm_call_3)\n",
    "router_builder.add_node(\"llm_call_router\", llm_call_router)\n",
    "\n",
    "\n",
    "# 添加边\n",
    "router_builder.add_edge(START, \"llm_call_router\")\n",
    "router_builder.add_conditional_edges(\n",
    "    \"llm_call_router\",\n",
    "    route_decision,\n",
    "    {\n",
    "        \"llm_call_1\": \"llm_call_1\",\n",
    "        \"llm_call_2\": \"llm_call_2\",\n",
    "        \"llm_call_3\": \"llm_call_3\",\n",
    "    }\n",
    ")\n",
    "router_builder.add_edge(\"llm_call_1\", END)\n",
    "router_builder.add_edge(\"llm_call_2\", END)\n",
    "router_builder.add_edge(\"llm_call_3\", END)\n",
    "\n",
    "router_workflow = router_builder.compile()\n",
    "display(Image(router_workflow.get_graph().draw_mermaid_png()))\n"
   ]
  },
  {
   "cell_type": "code",
   "execution_count": null,
   "id": "695a0ea0",
   "metadata": {
    "ExecuteTime": {
     "start_time": "2025-05-29T09:25:05.094Z"
    }
   },
   "outputs": [],
   "source": [
    "state = router_workflow.invoke({\"input\": \"写一篇关于猫的笑话\"})\n",
    "print(state[\"output\"])\n",
    "\n",
    "#state = router_workflow.invoke({\"input\": \"写一篇关于猫的故事\"})\n",
    "#state[\"output\"]\n",
    "\n",
    "#state = router_workflow.invoke({\"input\": \"写一篇关于猫的七言绝句\"})\n",
    "#state[\"output\"]"
   ]
  },
  {
   "cell_type": "code",
   "execution_count": null,
   "id": "fdf48089",
   "metadata": {},
   "outputs": [],
   "source": []
  }
 ],
 "metadata": {
  "kernelspec": {
   "display_name": "zyptorch",
   "language": "python",
   "name": "zyptorch"
  },
  "language_info": {
   "codemirror_mode": {
    "name": "ipython",
    "version": 3
   },
   "file_extension": ".py",
   "mimetype": "text/x-python",
   "name": "python",
   "nbconvert_exporter": "python",
   "pygments_lexer": "ipython3",
   "version": "3.12.5"
  }
 },
 "nbformat": 4,
 "nbformat_minor": 5
}
